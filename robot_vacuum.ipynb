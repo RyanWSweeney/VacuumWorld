{
 "cells": [
  {
   "cell_type": "markdown",
   "source": [
    "# Intelligent Agents: Reflex-Based Agents for the Vacuum-cleaner World\n",
    "\n",
    "Student Name: Ryan Sweeney\n",
    "\n",
    "I have used the following AI tools: pytorch\n",
    "\n",
    "I understand that my submission needs to be my own work: RS\n",
    "\n",
    "## Instructions\n",
    "\n",
    "Total Points: Undergrads 100 + 5 bonus / Graduate students 110\n",
    "\n",
    "Complete this notebook. Use the provided notebook cells and insert additional code and markdown cells as needed. Submit the completely rendered notebook as a HTML file.\n",
    "\n",
    "In Visual Studio Code: Use Export (click on ... in the menu bar) to save your notebook as a HTML file.\n",
    "\n",
    "In Colab you need to save the notebook on GoogleDrive and then add the following block\n",
    "```\n",
    "!pip install nbconvert\n",
    "\n",
    "from google.colab import drive\n",
    "drive.mount('/content/drive')\n",
    "!jupyter nbconvert --to html /content/drive/MyDrive/Colab\\ Notebooks/Copy\\ of\\ robot_vacuum.ipynb\n",
    "```\n",
    "\n",
    "You will need to fix the file location on your GoogleDrive.\n",
    "\n",
    "## Introduction\n",
    "\n",
    "In this assignment you will implement a simulator environment for an automatic vacuum cleaner robot, a set of different reflex-based agent programs, and perform a comparison study for cleaning a single room. Focus on the __cleaning phase__ which starts when the robot is activated and ends when the last dirty square in the room has been cleaned. Someone else will take care of the agent program needed to navigate back to the charging station after the room is clean.\n",
    "\n",
    "## PEAS description of the cleaning phase\n",
    "\n",
    "__Performance Measure:__ Each action costs 1 energy unit. The performance is measured as the sum of the energy units used to clean the whole room.\n",
    "\n",
    "__Environment:__ A room with $n \\times n$ squares where $n = 5$. Dirt is randomly placed on each square with probability $p = 0.2$. For simplicity, you can assume that the agent knows the size and the layout of the room (i.e., it knows $n$). To start, the agent is placed on a random square.\n",
    "\n",
    "__Actuators:__ The agent can clean the current square (action `suck`) or move to an adjacent square by going `north`, `east`, `south`, or `west`.\n",
    "\n",
    "__Sensors:__ Four bumper sensors, one for north, east, south, and west; a dirt sensor reporting dirt in the current square.  \n",
    "\n",
    "\n",
    "## The agent program for a simple randomized agent\n",
    "\n",
    "The agent program is a function that gets sensor information (the current percepts) as the arguments. The arguments are:\n",
    "\n",
    "* A dictionary with boolean entries for the for bumper sensors `north`, `east`, `west`, `south`. E.g., if the agent is on the north-west corner, `bumpers` will be `{\"north\" : True, \"east\" : False, \"south\" : False, \"west\" : True}`.\n",
    "* The dirt sensor produces a boolean.\n",
    "\n",
    "The agent returns the chosen action as a string.\n",
    "\n",
    "Here is an example implementation for the agent program of a simple randomized agent:  "
   ],
   "metadata": {
    "collapsed": false
   }
  },
  {
   "cell_type": "code",
   "execution_count": 11,
   "metadata": {
    "id": "tKd7kOSq-lAE",
    "ExecuteTime": {
     "end_time": "2024-02-12T18:40:56.815389Z",
     "start_time": "2024-02-12T18:40:56.753222Z"
    }
   },
   "outputs": [],
   "source": [
    "import numpy as np\n",
    "\n",
    "actions = [\"north\", \"east\", \"west\", \"south\", \"suck\"]\n",
    "\n",
    "def simple_randomized_agent(bumpers, dirty, n):\n",
    "    return np.random.choice(actions)"
   ]
  },
  {
   "cell_type": "code",
   "execution_count": 12,
   "metadata": {
    "id": "IYHwUXW6-lAF",
    "outputId": "f1f55277-dae2-4e83-bbee-738073a5f490",
    "ExecuteTime": {
     "end_time": "2024-02-12T18:40:56.840783Z",
     "start_time": "2024-02-12T18:40:56.758140Z"
    }
   },
   "outputs": [
    {
     "data": {
      "text/plain": "'suck'"
     },
     "execution_count": 12,
     "metadata": {},
     "output_type": "execute_result"
    }
   ],
   "source": [
    "# define percepts (current location is NW corner and it is dirty)\n",
    "bumpers = {\"north\" : True, \"east\" : False, \"south\" : False, \"west\" : True}\n",
    "dirty = True\n",
    "\n",
    "# call agent program function with percepts and it returns an action\n",
    "simple_randomized_agent(bumpers, dirty, 5)"
   ]
  },
  {
   "cell_type": "markdown",
   "metadata": {
    "id": "08Y1QFgU-lAG"
   },
   "source": [
    "__Note:__ This is not a rational intelligent agent. It ignores its sensors and may bump into a wall repeatedly or not clean a dirty square. You will be asked to implement rational agents below."
   ]
  },
  {
   "cell_type": "markdown",
   "metadata": {
    "id": "tTA2tBsX-lAG"
   },
   "source": [
    "## Simple environment example\n",
    "\n",
    "We implement a simple simulation environment that supplies the agent with its percepts.\n",
    "The simple environment is infinite in size (bumpers are always `False`) and every square is always dirty, even if the agent cleans it. The environment function returns a performance measure which is here the number of cleaned squares (since the room is infinite and all squares are constantly dirty, the agent can never clean the whole room as required in the PEAS description above). The energy budget of the agent is specified as `max_steps`."
   ]
  },
  {
   "cell_type": "code",
   "execution_count": 13,
   "metadata": {
    "id": "wVHA1jb4-lAG",
    "ExecuteTime": {
     "end_time": "2024-02-12T18:40:56.842131Z",
     "start_time": "2024-02-12T18:40:56.764099Z"
    }
   },
   "outputs": [],
   "source": [
    "def simple_environment(agent, max_steps, verbose = True):\n",
    "    num_cleaned = 0\n",
    "\n",
    "    for i in range(max_steps):\n",
    "        dirty = True\n",
    "        bumpers = {\"north\" : False, \"south\" : False, \"west\" : False, \"east\" : False}\n",
    "\n",
    "        action = agent(bumpers, dirty, 5)\n",
    "        if (verbose): print(\"step\", i , \"- action:\", action)\n",
    "\n",
    "        if (action == \"suck\"):\n",
    "            num_cleaned = num_cleaned + 1\n",
    "\n",
    "    return num_cleaned\n",
    "\n"
   ]
  },
  {
   "cell_type": "markdown",
   "metadata": {
    "id": "OA9_xKt6-lAG"
   },
   "source": [
    "Do one simulation run with a simple randomized agent that has enough energy for 20 steps."
   ]
  },
  {
   "cell_type": "code",
   "execution_count": 14,
   "metadata": {
    "id": "A63ugZA8-lAH",
    "outputId": "6ed15a04-a8b1-48b8-823c-9c688485bb85",
    "ExecuteTime": {
     "end_time": "2024-02-12T18:40:56.902601Z",
     "start_time": "2024-02-12T18:40:56.768019Z"
    }
   },
   "outputs": [
    {
     "name": "stdout",
     "output_type": "stream",
     "text": [
      "step 0 - action: south\n",
      "step 1 - action: north\n",
      "step 2 - action: east\n",
      "step 3 - action: west\n",
      "step 4 - action: west\n",
      "step 5 - action: west\n",
      "step 6 - action: north\n",
      "step 7 - action: west\n",
      "step 8 - action: north\n",
      "step 9 - action: suck\n",
      "step 10 - action: north\n",
      "step 11 - action: suck\n",
      "step 12 - action: suck\n",
      "step 13 - action: north\n",
      "step 14 - action: suck\n",
      "step 15 - action: suck\n",
      "step 16 - action: suck\n",
      "step 17 - action: west\n",
      "step 18 - action: north\n",
      "step 19 - action: east\n"
     ]
    },
    {
     "data": {
      "text/plain": "6"
     },
     "execution_count": 14,
     "metadata": {},
     "output_type": "execute_result"
    }
   ],
   "source": [
    "simple_environment(simple_randomized_agent, max_steps = 20)"
   ]
  },
  {
   "cell_type": "markdown",
   "metadata": {
    "id": "akbkaf21-lAH"
   },
   "source": [
    "# Tasks\n",
    "\n",
    "## General [10 Points]\n",
    "\n",
    "1. Make sure that you use the latest version of this notebook. Sync your forked repository and pull the latest revision.\n",
    "2. Your implementation can use libraries like math, numpy, scipy, but not libraries that implement intelligent agents or complete search algorithms. Try to keep the code simple! In this course, we want to learn about the algorithms and we often do not need to use object-oriented design.\n",
    "3. You notebook needs to be formatted professionally.\n",
    "    - Add additional markdown blocks for your description, comments in the code, add tables and use mathplotlib to produce charts where appropriate\n",
    "    - Do not show debugging output or include an excessive amount of output.\n",
    "    - Check that your PDF file is readable. For example, long lines are cut off in the PDF file. You don't have control over page breaks, so do not worry about these.\n",
    "4. Document your code. Add a short discussion of how your implementation works and your design choices.\n",
    "\n",
    "\n",
    "## Task 1: Implement a simulation environment [20 Points]\n",
    "\n",
    "The simple environment above is not very realistic. Your environment simulator needs to follow the PEAS description from above. It needs to:\n",
    "\n",
    "* Initialize the environment by storing the state of each square (clean/dirty) and making some dirty. ([Help with random numbers and arrays in Python](https://github.com/mhahsler/CS7320-AI/blob/master/HOWTOs/random_numbers_and_arrays.ipynb))\n",
    "* Keep track of the agent's position.\n",
    "* Call the agent function repeatedly and provide the agent function with the sensor inputs.  \n",
    "* React to the agent's actions. E.g, by removing dirt from a square or moving the agent around unless there is a wall in the way.\n",
    "* Keep track of the performance measure. That is, track the agent's actions until all dirty squares are clean and count the number of actions it takes the agent to complete the task.\n",
    "\n",
    "The easiest implementation for the environment is to hold an 2-dimensional array to represent if squares are clean or dirty and to call the agent function in a loop until all squares are clean or a predefined number of steps have been reached (i.e., the robot runs out of energy).\n",
    "\n",
    "The simulation environment should be a function like the `simple_environment()` and needs to work with the simple randomized agent program from above. **Use the same environment for all your agent implementations in the tasks below.**\n",
    "\n",
    "*Note on debugging:* Debugging is difficult. Make sure your environment prints enough information when you use `verbose = True`. Also, implementing a function that the environment can use to displays the room with dirt and the current position of the robot at every step is very useful.  "
   ]
  },
  {
   "cell_type": "code",
   "execution_count": 15,
   "metadata": {
    "id": "6vbGx3z--lAH",
    "ExecuteTime": {
     "end_time": "2024-02-12T18:40:56.907269Z",
     "start_time": "2024-02-12T18:40:56.787054Z"
    }
   },
   "outputs": [],
   "source": [
    "# Your code and description goes here\n",
    "import numpy as np\n",
    "import random\n",
    "\n",
    "def create_environment(n, p):\n",
    "    environment = np.zeros((n, n))\n",
    "    for i in range(n):\n",
    "        for j in range(n):\n",
    "            if random.random() < p:\n",
    "                environment[i][j] = 1\n",
    "    return environment\n",
    "\n",
    "def print_environment(environment, position):\n",
    "    n = len(environment)\n",
    "    for i in range(n):\n",
    "        for j in range(n):\n",
    "            if (i, j) == position:\n",
    "                print(\"X\", end = \" \")\n",
    "            elif environment[i][j] == 1:\n",
    "                print(\"D\", end = \" \")\n",
    "            else:\n",
    "                print(\"C\", end = \" \")\n",
    "        print()\n",
    "\n",
    "def simple_environment(agent, n, p, verbose = False):\n",
    "    environment = create_environment(n, p)\n",
    "    num_cleaned = 0\n",
    "    steps = 0  # Initialize steps counter\n",
    "    position = (random.randint(0, n-1), random.randint(0, n-1))\n",
    "    total_dirty = np.sum(environment)  # Count total dirty cells initially\n",
    "    \n",
    "    if (verbose): print_environment(environment, position)\n",
    "    \n",
    "    while num_cleaned < total_dirty:  # Continue until all dirty cells are cleaned\n",
    "        dirty = environment[position[0]][position[1]] == 1\n",
    "        bumpers = {\"north\" : position[0] == 0, \"south\" : position[0] == n-1, \"west\" : position[1] == 0, \"east\" : position[1] == n-1}\n",
    "\n",
    "        action = agent(bumpers, dirty, n)\n",
    "        if (verbose): print(\"step\", steps , \"- action:\", action)\n",
    "\n",
    "        if (action == \"suck\"):\n",
    "            if dirty:  # Only increment num_cleaned if the cell was dirty\n",
    "                environment[position[0]][position[1]] = 0\n",
    "                num_cleaned += 1\n",
    "        else:\n",
    "            if action == \"north\" and not bumpers[\"north\"]:\n",
    "                position = (position[0]-1, position[1])\n",
    "            elif action == \"south\" and not bumpers[\"south\"]:\n",
    "                position = (position[0]+1, position[1])\n",
    "            elif action == \"west\" and not bumpers[\"west\"]:\n",
    "                position = (position[0], position[1]-1)\n",
    "            elif action == \"east\" and not bumpers[\"east\"]:\n",
    "                position = (position[0], position[1]+1)\n",
    "                \n",
    "        steps += 1  # Increment steps for every action taken\n",
    "    \n",
    "    if (verbose): print_environment(environment, position)\n",
    "    return steps  # Return the total number of steps taken as performance measure\n"
   ]
  },
  {
   "cell_type": "code",
   "execution_count": null,
   "outputs": [],
   "source": [
    "# Test the environment\n",
    "simple_environment(simple_randomized_agent, 5, 0.2, verbose=True)"
   ],
   "metadata": {
    "collapsed": false,
    "ExecuteTime": {
     "start_time": "2024-02-12T18:42:11.143245Z"
    }
   }
  },
  {
   "cell_type": "markdown",
   "metadata": {
    "id": "z-ttDEEQ-lAH"
   },
   "source": [
    "## Task 2:  Implement a simple reflex agent [10 Points]\n",
    "\n",
    "The simple reflex agent randomly walks around but reacts to the bumper sensor by not bumping into the wall and to dirt with sucking. Implement the agent program as a function.\n",
    "\n",
    "_Note:_ Agents cannot directly use variable in the environment. They only gets the percepts as the arguments to the agent function."
   ]
  },
  {
   "cell_type": "code",
   "execution_count": 23,
   "metadata": {
    "id": "rsIEReD4-lAI",
    "ExecuteTime": {
     "end_time": "2024-02-12T18:42:21.910375Z",
     "start_time": "2024-02-12T18:42:21.901952Z"
    }
   },
   "outputs": [],
   "source": [
    "# Your code and description g#create a smarter agent\n",
    "def simple_reflex_agent(bumpers, dirty, n):\n",
    "    #note I insert n but do not use it so all agents are compatible with the environment\n",
    "    if dirty:\n",
    "        return \"suck\"\n",
    "    else:\n",
    "        # Randomly choose a direction that is not blocked\n",
    "        while True:\n",
    "            action = np.random.choice([\"north\", \"east\", \"west\", \"south\"])\n",
    "            if not bumpers[action]:\n",
    "                return action\n",
    "    "
   ]
  },
  {
   "cell_type": "code",
   "execution_count": 25,
   "outputs": [
    {
     "name": "stdout",
     "output_type": "stream",
     "text": [
      "C C C C C \n",
      "C C C C C \n",
      "C C X C C \n",
      "D D C C C \n",
      "C C C C C \n",
      "step 0 - action: south\n",
      "step 1 - action: east\n",
      "step 2 - action: east\n",
      "step 3 - action: north\n",
      "step 4 - action: west\n",
      "step 5 - action: south\n",
      "step 6 - action: north\n",
      "step 7 - action: east\n",
      "step 8 - action: west\n",
      "step 9 - action: south\n",
      "step 10 - action: east\n",
      "step 11 - action: west\n",
      "step 12 - action: east\n",
      "step 13 - action: west\n",
      "step 14 - action: south\n",
      "step 15 - action: north\n",
      "step 16 - action: west\n",
      "step 17 - action: west\n",
      "step 18 - action: suck\n",
      "step 19 - action: south\n",
      "step 20 - action: east\n",
      "step 21 - action: west\n",
      "step 22 - action: north\n",
      "step 23 - action: south\n",
      "step 24 - action: east\n",
      "step 25 - action: west\n",
      "step 26 - action: west\n",
      "step 27 - action: east\n",
      "step 28 - action: north\n",
      "step 29 - action: east\n",
      "step 30 - action: west\n",
      "step 31 - action: east\n",
      "step 32 - action: north\n",
      "step 33 - action: south\n",
      "step 34 - action: west\n",
      "step 35 - action: east\n",
      "step 36 - action: west\n",
      "step 37 - action: north\n",
      "step 38 - action: north\n",
      "step 39 - action: south\n",
      "step 40 - action: east\n",
      "step 41 - action: east\n",
      "step 42 - action: west\n",
      "step 43 - action: east\n",
      "step 44 - action: north\n",
      "step 45 - action: north\n",
      "step 46 - action: west\n",
      "step 47 - action: south\n",
      "step 48 - action: east\n",
      "step 49 - action: south\n",
      "step 50 - action: west\n",
      "step 51 - action: west\n",
      "step 52 - action: north\n",
      "step 53 - action: north\n",
      "step 54 - action: east\n",
      "step 55 - action: south\n",
      "step 56 - action: east\n",
      "step 57 - action: north\n",
      "step 58 - action: east\n",
      "step 59 - action: west\n",
      "step 60 - action: east\n",
      "step 61 - action: west\n",
      "step 62 - action: west\n",
      "step 63 - action: east\n",
      "step 64 - action: east\n",
      "step 65 - action: south\n",
      "step 66 - action: south\n",
      "step 67 - action: north\n",
      "step 68 - action: north\n",
      "step 69 - action: west\n",
      "step 70 - action: east\n",
      "step 71 - action: south\n",
      "step 72 - action: north\n",
      "step 73 - action: west\n",
      "step 74 - action: east\n",
      "step 75 - action: west\n",
      "step 76 - action: east\n",
      "step 77 - action: south\n",
      "step 78 - action: west\n",
      "step 79 - action: west\n",
      "step 80 - action: east\n",
      "step 81 - action: south\n",
      "step 82 - action: south\n",
      "step 83 - action: east\n",
      "step 84 - action: north\n",
      "step 85 - action: north\n",
      "step 86 - action: west\n",
      "step 87 - action: south\n",
      "step 88 - action: west\n",
      "step 89 - action: south\n",
      "step 90 - action: west\n",
      "step 91 - action: north\n",
      "step 92 - action: north\n",
      "step 93 - action: south\n",
      "step 94 - action: west\n",
      "step 95 - action: east\n",
      "step 96 - action: east\n",
      "step 97 - action: south\n",
      "step 98 - action: south\n",
      "step 99 - action: west\n",
      "step 100 - action: north\n",
      "step 101 - action: west\n",
      "step 102 - action: suck\n",
      "C C C C C \n",
      "C C C C C \n",
      "C C C C C \n",
      "X C C C C \n",
      "C C C C C \n"
     ]
    },
    {
     "data": {
      "text/plain": "103"
     },
     "execution_count": 25,
     "metadata": {},
     "output_type": "execute_result"
    }
   ],
   "source": [
    "simple_environment(simple_reflex_agent, 5, 0.2, verbose=True)"
   ],
   "metadata": {
    "collapsed": false,
    "ExecuteTime": {
     "end_time": "2024-02-12T18:42:30.490947Z",
     "start_time": "2024-02-12T18:42:30.484657Z"
    }
   }
  },
  {
   "cell_type": "markdown",
   "metadata": {
    "id": "kgQnaQYW-lAI"
   },
   "source": [
    "## Task 3: Implement a model-based reflex agent [20 Points]\n",
    "\n",
    "Model-based agents use a state to keep track of what they have done and perceived so far. Your agent needs to find out where it is located and then keep track of its current location. You also need a set of rules based on the state and the percepts to make sure that the agent will clean the whole room. For example, the agent can move to a corner to determine its location and then it can navigate through the whole room and clean dirty squares.\n",
    "\n",
    "Describe how you define the __agent state__ and how your agent works before implementing it. ([Help with implementing state information on Python](https://github.com/mhahsler/CS7320-AI/blob/master/HOWTOs/store_agent_state_information.ipynb))"
   ]
  },
  {
   "cell_type": "code",
   "execution_count": 19,
   "metadata": {
    "id": "f9MLvf4x-lAI",
    "ExecuteTime": {
     "end_time": "2024-02-12T18:40:56.955489Z",
     "start_time": "2024-02-12T18:40:56.818605Z"
    }
   },
   "outputs": [],
   "source": [
    "# Your short description of the state and your implementation goes here"
   ]
  },
  {
   "cell_type": "code",
   "execution_count": 59,
   "outputs": [],
   "source": [
    "class SpiralerAgent:\n",
    "    def __init__(self, n):\n",
    "        self.n = n  # Environment size\n",
    "        self.position = (random.randint(0, n-1), random.randint(0, n-1))  # Random start position\n",
    "        self.orientation = 'North'\n",
    "        self.visited = set()  # Keep track of visited cells\n",
    "        self.mode = 'Find Wall'\n",
    "        self.steps_since_last_turn = 0  # Steps taken in the current direction\n",
    "        self.steps_allowed = n - 1  # Max steps allowed in the current spiral arm\n",
    "        self.turns_made = 0  # Turns made since the last decrease in steps_allowed\n",
    "\n",
    "    def update_orientation_for_spiral(self):\n",
    "        # Adjust the agent's orientation for spiraling: turn right\n",
    "        orientation_order = ['North', 'East', 'South', 'West']\n",
    "        current_index = orientation_order.index(self.orientation)\n",
    "        self.orientation = orientation_order[(current_index + 1) % 4]  # Turn right\n",
    "        self.turns_made += 1\n",
    "        # Every 2 turns, reduce the steps allowed in the current direction to tighten the spiral\n",
    "        if self.turns_made % 3 == 0:\n",
    "            self.steps_allowed -= 1\n",
    "        self.steps_since_last_turn = 0  # Reset counter after each turn\n",
    "\n",
    "    def can_move(self, bumpers):\n",
    "        # Check if the agent can move forward in its current orientation without hitting a wall\n",
    "        return not bumpers[self.orientation.lower()] and self.steps_since_last_turn < self.steps_allowed\n",
    "    \n",
    "    def decide_action(self, bumpers, dirty, n):\n",
    "        if dirty:\n",
    "            return \"suck\"\n",
    "        \n",
    "        if self.mode == 'Find Wall':\n",
    "            if any(bumpers.values()):\n",
    "                self.mode = 'Spiral Inwards'\n",
    "                self.update_orientation_for_spiral()\n",
    "            else:\n",
    "                return self.orientation.lower()\n",
    "        \n",
    "        if self.mode == 'Spiral Inwards':\n",
    "            if self.can_move(bumpers):\n",
    "                self.steps_since_last_turn += 1  # Increment steps taken in the current direction\n",
    "                return self.orientation.lower()\n",
    "            else:\n",
    "                self.update_orientation_for_spiral()  # Turn right when facing a wall or reaching steps limit\n",
    "                return self.orientation.lower()\n",
    "    \n",
    "        # Default action if none above apply\n",
    "        return \"north\"\n",
    "\n",
    "    def __call__(self, bumpers, dirty, n):\n",
    "        return self.decide_action(bumpers, dirty, n)\n"
   ],
   "metadata": {
    "collapsed": false,
    "ExecuteTime": {
     "end_time": "2024-02-12T18:58:08.103890Z",
     "start_time": "2024-02-12T18:58:07.306629Z"
    }
   }
  },
  {
   "cell_type": "code",
   "execution_count": 61,
   "outputs": [
    {
     "name": "stdout",
     "output_type": "stream",
     "text": [
      "C C C C C \n",
      "C C C C D \n",
      "C X C C C \n",
      "C D D C C \n",
      "C C C C C \n",
      "step 0 - action: suck\n",
      "step 1 - action: north\n",
      "step 2 - action: north\n",
      "step 3 - action: east\n",
      "step 4 - action: east\n",
      "step 5 - action: east\n",
      "step 6 - action: south\n",
      "step 7 - action: suck\n",
      "step 8 - action: south\n",
      "step 9 - action: south\n",
      "step 10 - action: south\n",
      "step 11 - action: west\n",
      "step 12 - action: west\n",
      "step 13 - action: west\n",
      "step 14 - action: west\n",
      "step 15 - action: north\n",
      "step 16 - action: north\n",
      "step 17 - action: north\n",
      "step 18 - action: north\n",
      "step 19 - action: east\n",
      "step 20 - action: east\n",
      "step 21 - action: east\n",
      "step 22 - action: east\n",
      "step 23 - action: south\n",
      "step 24 - action: south\n",
      "step 25 - action: south\n",
      "step 26 - action: west\n",
      "step 27 - action: west\n",
      "step 28 - action: suck\n",
      "step 29 - action: west\n",
      "step 30 - action: suck\n",
      "C C C C C \n",
      "C C C C C \n",
      "C C C C C \n",
      "C X C C C \n",
      "C C C C C \n",
      "Number of steps: 31\n"
     ]
    }
   ],
   "source": [
    "# Instantiate the spiraler agent\n",
    "n = 5  # Environment size\n",
    "spiraler_agent = SpiralerAgent(n)\n",
    "\n",
    "# Run the environment with the spiraler agent\n",
    "max_steps = 100  # Define maximum steps to simulate\n",
    "num_cleaned = simple_environment(spiraler_agent, n, 0.2, verbose=True)\n",
    "\n",
    "print(f\"Number of steps: {num_cleaned}\")\n",
    "     "
   ],
   "metadata": {
    "collapsed": false,
    "ExecuteTime": {
     "end_time": "2024-02-12T18:58:18.593779Z",
     "start_time": "2024-02-12T18:58:18.587079Z"
    }
   }
  },
  {
   "cell_type": "markdown",
   "metadata": {
    "id": "ab5LWidx-lAI"
   },
   "source": [
    "## Task 4: Simulation study [30 Points]\n",
    "\n",
    "Compare the performance (the performance measure is defined in the PEAS description above) of the agents using  environments of different size. E.g., $5 \\times 5$, $10 \\times 10$ and\n",
    "$100 \\times 100$. Use 100 random runs for each. Present the results using tables and graphs. Discuss the differences between the agents.\n",
    "([Help with charts and tables in Python](https://github.com/mhahsler/CS7320-AI/blob/master/HOWTOs/charts_and_tables.ipynb))"
   ]
  },
  {
   "cell_type": "code",
   "execution_count": 68,
   "outputs": [
    {
     "ename": "KeyboardInterrupt",
     "evalue": "",
     "output_type": "error",
     "traceback": [
      "\u001B[0;31m---------------------------------------------------------------------------\u001B[0m",
      "\u001B[0;31mKeyboardInterrupt\u001B[0m                         Traceback (most recent call last)",
      "Cell \u001B[0;32mIn[68], line 8\u001B[0m\n\u001B[1;32m      6\u001B[0m Threads \u001B[38;5;241m=\u001B[39m []\n\u001B[1;32m      7\u001B[0m \u001B[38;5;66;03m# Run the simulations\u001B[39;00m\n\u001B[0;32m----> 8\u001B[0m randomized_agent_steps \u001B[38;5;241m=\u001B[39m [simple_environment(simple_randomized_agent, n, p, verbose\u001B[38;5;241m=\u001B[39m\u001B[38;5;28;01mFalse\u001B[39;00m) \u001B[38;5;28;01mfor\u001B[39;00m _ \u001B[38;5;129;01min\u001B[39;00m \u001B[38;5;28mrange\u001B[39m(\u001B[38;5;241m100\u001B[39m)]\n\u001B[1;32m      9\u001B[0m simple_reflex_agent_steps \u001B[38;5;241m=\u001B[39m [simple_environment(simple_reflex_agent, n, p, verbose\u001B[38;5;241m=\u001B[39m\u001B[38;5;28;01mFalse\u001B[39;00m) \u001B[38;5;28;01mfor\u001B[39;00m _ \u001B[38;5;129;01min\u001B[39;00m \u001B[38;5;28mrange\u001B[39m(\u001B[38;5;241m100\u001B[39m)]\n\u001B[1;32m     10\u001B[0m model_based_reflex_agent_steps \u001B[38;5;241m=\u001B[39m [simple_environment(SpiralerAgent(n), n, p, verbose\u001B[38;5;241m=\u001B[39m\u001B[38;5;28;01mFalse\u001B[39;00m) \u001B[38;5;28;01mfor\u001B[39;00m _ \u001B[38;5;129;01min\u001B[39;00m \u001B[38;5;28mrange\u001B[39m(\u001B[38;5;241m100\u001B[39m)]\n",
      "Cell \u001B[0;32mIn[68], line 8\u001B[0m, in \u001B[0;36m<listcomp>\u001B[0;34m(.0)\u001B[0m\n\u001B[1;32m      6\u001B[0m Threads \u001B[38;5;241m=\u001B[39m []\n\u001B[1;32m      7\u001B[0m \u001B[38;5;66;03m# Run the simulations\u001B[39;00m\n\u001B[0;32m----> 8\u001B[0m randomized_agent_steps \u001B[38;5;241m=\u001B[39m [\u001B[43msimple_environment\u001B[49m\u001B[43m(\u001B[49m\u001B[43msimple_randomized_agent\u001B[49m\u001B[43m,\u001B[49m\u001B[43m \u001B[49m\u001B[43mn\u001B[49m\u001B[43m,\u001B[49m\u001B[43m \u001B[49m\u001B[43mp\u001B[49m\u001B[43m,\u001B[49m\u001B[43m \u001B[49m\u001B[43mverbose\u001B[49m\u001B[38;5;241;43m=\u001B[39;49m\u001B[38;5;28;43;01mFalse\u001B[39;49;00m\u001B[43m)\u001B[49m \u001B[38;5;28;01mfor\u001B[39;00m _ \u001B[38;5;129;01min\u001B[39;00m \u001B[38;5;28mrange\u001B[39m(\u001B[38;5;241m100\u001B[39m)]\n\u001B[1;32m      9\u001B[0m simple_reflex_agent_steps \u001B[38;5;241m=\u001B[39m [simple_environment(simple_reflex_agent, n, p, verbose\u001B[38;5;241m=\u001B[39m\u001B[38;5;28;01mFalse\u001B[39;00m) \u001B[38;5;28;01mfor\u001B[39;00m _ \u001B[38;5;129;01min\u001B[39;00m \u001B[38;5;28mrange\u001B[39m(\u001B[38;5;241m100\u001B[39m)]\n\u001B[1;32m     10\u001B[0m model_based_reflex_agent_steps \u001B[38;5;241m=\u001B[39m [simple_environment(SpiralerAgent(n), n, p, verbose\u001B[38;5;241m=\u001B[39m\u001B[38;5;28;01mFalse\u001B[39;00m) \u001B[38;5;28;01mfor\u001B[39;00m _ \u001B[38;5;129;01min\u001B[39;00m \u001B[38;5;28mrange\u001B[39m(\u001B[38;5;241m100\u001B[39m)]\n",
      "Cell \u001B[0;32mIn[15], line 38\u001B[0m, in \u001B[0;36msimple_environment\u001B[0;34m(agent, n, p, verbose)\u001B[0m\n\u001B[1;32m     35\u001B[0m dirty \u001B[38;5;241m=\u001B[39m environment[position[\u001B[38;5;241m0\u001B[39m]][position[\u001B[38;5;241m1\u001B[39m]] \u001B[38;5;241m==\u001B[39m \u001B[38;5;241m1\u001B[39m\n\u001B[1;32m     36\u001B[0m bumpers \u001B[38;5;241m=\u001B[39m {\u001B[38;5;124m\"\u001B[39m\u001B[38;5;124mnorth\u001B[39m\u001B[38;5;124m\"\u001B[39m : position[\u001B[38;5;241m0\u001B[39m] \u001B[38;5;241m==\u001B[39m \u001B[38;5;241m0\u001B[39m, \u001B[38;5;124m\"\u001B[39m\u001B[38;5;124msouth\u001B[39m\u001B[38;5;124m\"\u001B[39m : position[\u001B[38;5;241m0\u001B[39m] \u001B[38;5;241m==\u001B[39m n\u001B[38;5;241m-\u001B[39m\u001B[38;5;241m1\u001B[39m, \u001B[38;5;124m\"\u001B[39m\u001B[38;5;124mwest\u001B[39m\u001B[38;5;124m\"\u001B[39m : position[\u001B[38;5;241m1\u001B[39m] \u001B[38;5;241m==\u001B[39m \u001B[38;5;241m0\u001B[39m, \u001B[38;5;124m\"\u001B[39m\u001B[38;5;124meast\u001B[39m\u001B[38;5;124m\"\u001B[39m : position[\u001B[38;5;241m1\u001B[39m] \u001B[38;5;241m==\u001B[39m n\u001B[38;5;241m-\u001B[39m\u001B[38;5;241m1\u001B[39m}\n\u001B[0;32m---> 38\u001B[0m action \u001B[38;5;241m=\u001B[39m \u001B[43magent\u001B[49m\u001B[43m(\u001B[49m\u001B[43mbumpers\u001B[49m\u001B[43m,\u001B[49m\u001B[43m \u001B[49m\u001B[43mdirty\u001B[49m\u001B[43m,\u001B[49m\u001B[43m \u001B[49m\u001B[43mn\u001B[49m\u001B[43m)\u001B[49m\n\u001B[1;32m     39\u001B[0m \u001B[38;5;28;01mif\u001B[39;00m (verbose): \u001B[38;5;28mprint\u001B[39m(\u001B[38;5;124m\"\u001B[39m\u001B[38;5;124mstep\u001B[39m\u001B[38;5;124m\"\u001B[39m, steps , \u001B[38;5;124m\"\u001B[39m\u001B[38;5;124m- action:\u001B[39m\u001B[38;5;124m\"\u001B[39m, action)\n\u001B[1;32m     41\u001B[0m \u001B[38;5;28;01mif\u001B[39;00m (action \u001B[38;5;241m==\u001B[39m \u001B[38;5;124m\"\u001B[39m\u001B[38;5;124msuck\u001B[39m\u001B[38;5;124m\"\u001B[39m):\n",
      "Cell \u001B[0;32mIn[11], line 6\u001B[0m, in \u001B[0;36msimple_randomized_agent\u001B[0;34m(bumpers, dirty, n)\u001B[0m\n\u001B[1;32m      5\u001B[0m \u001B[38;5;28;01mdef\u001B[39;00m \u001B[38;5;21msimple_randomized_agent\u001B[39m(bumpers, dirty, n):\n\u001B[0;32m----> 6\u001B[0m     \u001B[38;5;28;01mreturn\u001B[39;00m \u001B[43mnp\u001B[49m\u001B[38;5;241;43m.\u001B[39;49m\u001B[43mrandom\u001B[49m\u001B[38;5;241;43m.\u001B[39;49m\u001B[43mchoice\u001B[49m\u001B[43m(\u001B[49m\u001B[43mactions\u001B[49m\u001B[43m)\u001B[49m\n",
      "File \u001B[0;32mnumpy/random/mtrand.pyx:998\u001B[0m, in \u001B[0;36mnumpy.random.mtrand.RandomState.choice\u001B[0;34m()\u001B[0m\n",
      "File \u001B[0;32mnumpy/random/mtrand.pyx:782\u001B[0m, in \u001B[0;36mnumpy.random.mtrand.RandomState.randint\u001B[0;34m()\u001B[0m\n",
      "File \u001B[0;32mnumpy/random/_bounded_integers.pyx:1315\u001B[0m, in \u001B[0;36mnumpy.random._bounded_integers._rand_int64\u001B[0;34m()\u001B[0m\n",
      "File \u001B[0;32m~/PycharmProjects/VacuumWorld/venv/lib/python3.9/site-packages/numpy/core/fromnumeric.py:2974\u001B[0m, in \u001B[0;36m_prod_dispatcher\u001B[0;34m(a, axis, dtype, out, keepdims, initial, where)\u001B[0m\n\u001B[1;32m   2960\u001B[0m \u001B[38;5;250m    \u001B[39m\u001B[38;5;124;03m\"\"\"\u001B[39;00m\n\u001B[1;32m   2961\u001B[0m \u001B[38;5;124;03m    Return the minimum of an array or minimum along an axis.\u001B[39;00m\n\u001B[1;32m   2962\u001B[0m \n\u001B[0;32m   (...)\u001B[0m\n\u001B[1;32m   2968\u001B[0m \u001B[38;5;124;03m    ndarray.min : equivalent method\u001B[39;00m\n\u001B[1;32m   2969\u001B[0m \u001B[38;5;124;03m    \"\"\"\u001B[39;00m\n\u001B[1;32m   2970\u001B[0m     \u001B[38;5;28;01mreturn\u001B[39;00m _wrapreduction(a, np\u001B[38;5;241m.\u001B[39mminimum, \u001B[38;5;124m'\u001B[39m\u001B[38;5;124mmin\u001B[39m\u001B[38;5;124m'\u001B[39m, axis, \u001B[38;5;28;01mNone\u001B[39;00m, out,\n\u001B[1;32m   2971\u001B[0m                           keepdims\u001B[38;5;241m=\u001B[39mkeepdims, initial\u001B[38;5;241m=\u001B[39minitial, where\u001B[38;5;241m=\u001B[39mwhere)\n\u001B[0;32m-> 2974\u001B[0m \u001B[38;5;28;01mdef\u001B[39;00m \u001B[38;5;21m_prod_dispatcher\u001B[39m(a, axis\u001B[38;5;241m=\u001B[39m\u001B[38;5;28;01mNone\u001B[39;00m, dtype\u001B[38;5;241m=\u001B[39m\u001B[38;5;28;01mNone\u001B[39;00m, out\u001B[38;5;241m=\u001B[39m\u001B[38;5;28;01mNone\u001B[39;00m, keepdims\u001B[38;5;241m=\u001B[39m\u001B[38;5;28;01mNone\u001B[39;00m,\n\u001B[1;32m   2975\u001B[0m                      initial\u001B[38;5;241m=\u001B[39m\u001B[38;5;28;01mNone\u001B[39;00m, where\u001B[38;5;241m=\u001B[39m\u001B[38;5;28;01mNone\u001B[39;00m):\n\u001B[1;32m   2976\u001B[0m     \u001B[38;5;28;01mreturn\u001B[39;00m (a, out)\n\u001B[1;32m   2979\u001B[0m \u001B[38;5;129m@array_function_dispatch\u001B[39m(_prod_dispatcher)\n\u001B[1;32m   2980\u001B[0m \u001B[38;5;28;01mdef\u001B[39;00m \u001B[38;5;21mprod\u001B[39m(a, axis\u001B[38;5;241m=\u001B[39m\u001B[38;5;28;01mNone\u001B[39;00m, dtype\u001B[38;5;241m=\u001B[39m\u001B[38;5;28;01mNone\u001B[39;00m, out\u001B[38;5;241m=\u001B[39m\u001B[38;5;28;01mNone\u001B[39;00m, keepdims\u001B[38;5;241m=\u001B[39mnp\u001B[38;5;241m.\u001B[39m_NoValue,\n\u001B[1;32m   2981\u001B[0m          initial\u001B[38;5;241m=\u001B[39mnp\u001B[38;5;241m.\u001B[39m_NoValue, where\u001B[38;5;241m=\u001B[39mnp\u001B[38;5;241m.\u001B[39m_NoValue):\n",
      "\u001B[0;31mKeyboardInterrupt\u001B[0m: "
     ]
    }
   ],
   "source": [
    "# Your code goes here\n",
    "#5x5\n",
    "n = 5  # Example for 5x5 environment, repeat for 10x10 and 100x100\n",
    "p = 0.2\n",
    "\n",
    "Threads = []\n",
    "# Run the simulations\n",
    "randomized_agent_steps = [simple_environment(simple_randomized_agent, n, p, verbose=False) for _ in range(100)]\n",
    "simple_reflex_agent_steps = [simple_environment(simple_reflex_agent, n, p, verbose=False) for _ in range(100)]\n",
    "model_based_reflex_agent_steps = [simple_environment(SpiralerAgent(n), n, p, verbose=False) for _ in range(100)]\n",
    "\n",
    "# Output the average steps taken to clean the entire environment\n",
    "print(f\"{n}x{n}\")\n",
    "print(\"Randomized Agent: Average Steps =\", np.mean(randomized_agent_steps))\n",
    "print(\"Simple Reflex Agent: Average Steps =\", np.mean(simple_reflex_agent_steps))\n",
    "print(\"Model-based Reflex Agent: Average Steps =\", np.mean(model_based_reflex_agent_steps))\n"
   ],
   "metadata": {
    "collapsed": false,
    "ExecuteTime": {
     "end_time": "2024-02-12T19:12:09.736634Z",
     "start_time": "2024-02-12T19:12:07.209347Z"
    }
   }
  },
  {
   "cell_type": "code",
   "execution_count": 36,
   "outputs": [],
   "source": [],
   "metadata": {
    "collapsed": false,
    "ExecuteTime": {
     "end_time": "2024-02-12T18:51:08.355414Z",
     "start_time": "2024-02-12T18:51:08.309500Z"
    }
   }
  },
  {
   "cell_type": "markdown",
   "metadata": {
    "id": "defD5TAt-lAI"
   },
   "source": [
    "Fill out the following table with the average performance measure for 100 random runs (you may also create this table with code):\n",
    "\n",
    "| Size     | Randomized Agent | Simple Reflex Agent | Model-based Reflex Agent |\n",
    "|----------|------------------|---------------------|--------------------------|\n",
    "| 5x5     | 429.19| 91.86| 30.58|\n",
    "| 10x10   | 3205.79| 968.39| 160.76|\n",
    "| 100x100 | | | |\n",
    "\n",
    "Add charts to compare the performance of the different agents."
   ]
  },
  {
   "cell_type": "code",
   "execution_count": null,
   "metadata": {
    "id": "A_dJoacQ-lAI",
    "ExecuteTime": {
     "start_time": "2024-02-12T18:42:11.135327Z"
    }
   },
   "outputs": [],
   "source": [
    "# Your graphs and discussion of the results goes here"
   ]
  },
  {
   "cell_type": "markdown",
   "metadata": {
    "id": "T4cEvgoN-lAJ"
   },
   "source": [
    "## Task 5: Robustness of the agent implementations [10 Points]\n",
    "\n",
    "Describe how **your agent implementations** will perform\n",
    "\n",
    "* if it is put into a rectangular room with unknown size,\n",
    "* if the cleaning area can have an irregular shape (e.g., a hallway connecting two rooms), or\n",
    "* if the room contains obstacles (i.e., squares that it cannot pass through and trigger the bumper sensors)."
   ]
  },
  {
   "cell_type": "code",
   "execution_count": null,
   "metadata": {
    "id": "K3JFkG8i-lAJ",
    "ExecuteTime": {
     "start_time": "2024-02-12T18:42:11.137291Z"
    }
   },
   "outputs": [],
   "source": [
    "# Answer goes here"
   ]
  },
  {
   "cell_type": "markdown",
   "metadata": {
    "id": "d7WqYJFF-lAJ"
   },
   "source": [
    "## Advanced task: Obstacles\n",
    "\n",
    "* __Graduate students__ need to complete this task [10 points]\n",
    "* __Undergraduate students__ can attempt this as a bonus task [max +5 bonus points].\n",
    "\n",
    "1. Change your simulation environment tor run experiments for the following problem: Add random obstacle squares that also trigger the bumper sensor. The agent does not know where the obstacles are. Observe how this changes the performance of the three implementations.\n",
    "\n",
    "2. Describe what would need to be done to perform better with obstacles. Add code if you can."
   ]
  },
  {
   "cell_type": "code",
   "execution_count": null,
   "metadata": {
    "id": "0F9rJk-U-lAJ",
    "ExecuteTime": {
     "start_time": "2024-02-12T18:42:11.139177Z"
    }
   },
   "outputs": [],
   "source": [
    "# Your code and discussion goes here"
   ]
  },
  {
   "cell_type": "markdown",
   "metadata": {
    "id": "1bY2J88M-lAJ"
   },
   "source": [
    "## More advanced implementation tasks\n",
    "\n",
    "* __Agent for and environment with obstacles:__ Implement an agent for an environment where the agent does not know how large the environment is (we assume it is rectangular), where it starts or where the obstacles are. An option would be to always move to the closest unchecked/uncleaned square (note that this is actually depth-first search).\n",
    "\n",
    "* __Utility-based agent:__ Change the environment for a $5 \\times 5$ room, so each square has a fixed probability of getting dirty again. For the implementation, we give the environment a 2-dimensional array of probabilities. The utility of a state is defined as the number of currently clean squares in the room. Implement a utility-based agent that maximizes the expected utility over one full charge which lasts for 100000 time steps. To do this, the agent needs to learn the probabilities with which different squares get dirty again. This is very tricky!"
   ]
  },
  {
   "cell_type": "code",
   "execution_count": null,
   "metadata": {
    "id": "cou0WVr8-lAJ",
    "ExecuteTime": {
     "start_time": "2024-02-12T18:42:11.140507Z"
    }
   },
   "outputs": [],
   "source": [
    "# Your ideas/code"
   ]
  }
 ],
 "metadata": {
  "kernelspec": {
   "display_name": "Python 3 (ipykernel)",
   "language": "python",
   "name": "python3"
  },
  "language_info": {
   "codemirror_mode": {
    "name": "ipython",
    "version": 3
   },
   "file_extension": ".py",
   "mimetype": "text/x-python",
   "name": "python",
   "nbconvert_exporter": "python",
   "pygments_lexer": "ipython3",
   "version": "3.10.12"
  },
  "toc-autonumbering": false,
  "colab": {
   "provenance": []
  }
 },
 "nbformat": 4,
 "nbformat_minor": 0
}
